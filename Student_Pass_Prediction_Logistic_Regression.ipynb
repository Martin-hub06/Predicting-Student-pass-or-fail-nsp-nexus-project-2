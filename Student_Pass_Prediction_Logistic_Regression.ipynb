{
 "cells": [
  {
   "cell_type": "markdown",
   "id": "de34a7e3",
   "metadata": {},
   "source": [
    "## 🎓 Logistic Regression: Predicting Student Pass/Fail Based on Study Hours and Attendance"
   ]
  },
  {
   "cell_type": "code",
   "execution_count": null,
   "id": "9fd1c6ae",
   "metadata": {},
   "outputs": [],
   "source": [
    "import pandas as pd\n",
    "import numpy as np\n",
    "import seaborn as sns\n",
    "import matplotlib.pyplot as plt\n",
    "\n",
    "from sklearn.linear_model import LogisticRegression\n",
    "from sklearn.model_selection import train_test_split\n",
    "from sklearn.metrics import accuracy_score, confusion_matrix, classification_report\n"
   ]
  },
  {
   "cell_type": "code",
   "execution_count": null,
   "id": "3934ee97",
   "metadata": {},
   "outputs": [],
   "source": [
    "# Step 1: Prepare the dataset\n",
    "data = {\n",
    "    'Hours_Studied': [5, 2, 4, 1, 6, 3, 7, 0, 2, 8],\n",
    "    'Attendance': [85, 60, 75, 50, 90, 70, 95, 40, 55, 98],\n",
    "    'Pass_Fail': [1, 0, 1, 0, 1, 1, 1, 0, 0, 1]\n",
    "}\n",
    "df = pd.DataFrame(data)\n",
    "\n",
    "print(\"🎓 Student Dataset:\\n\")\n",
    "print(df)\n"
   ]
  },
  {
   "cell_type": "code",
   "execution_count": null,
   "id": "8f225e3e",
   "metadata": {},
   "outputs": [],
   "source": [
    "# Step 2: Visualize the data\n",
    "sns.set(style=\"whitegrid\")\n",
    "\n",
    "# Scatter plot of Hours Studied vs Attendance\n",
    "plt.figure(figsize=(8, 6))\n",
    "sns.scatterplot(data=df, x='Hours_Studied', y='Attendance', hue='Pass_Fail', palette='coolwarm', s=100)\n",
    "plt.title(\"📊 Hours Studied vs Attendance (Pass/Fail)\")\n",
    "plt.xlabel(\"Hours Studied\")\n",
    "plt.ylabel(\"Attendance (%)\")\n",
    "plt.show()\n",
    "\n",
    "# Heatmap for correlation\n",
    "plt.figure(figsize=(6, 4))\n",
    "sns.heatmap(df.corr(), annot=True, cmap='Blues')\n",
    "plt.title(\"🔍 Correlation Heatmap\")\n",
    "plt.show()\n"
   ]
  },
  {
   "cell_type": "code",
   "execution_count": null,
   "id": "f6a73be9",
   "metadata": {},
   "outputs": [],
   "source": [
    "# Step 3: Prepare features and target\n",
    "X = df[['Hours_Studied', 'Attendance']]\n",
    "y = df['Pass_Fail']\n",
    "\n",
    "# Step 4: Split the data\n",
    "X_train, X_test, y_train, y_test = train_test_split(X, y, test_size=0.3, random_state=42)\n"
   ]
  },
  {
   "cell_type": "code",
   "execution_count": null,
   "id": "70affeef",
   "metadata": {},
   "outputs": [],
   "source": [
    "# Step 5: Train the logistic regression model\n",
    "model = LogisticRegression()\n",
    "model.fit(X_train, y_train)\n",
    "\n",
    "# Step 6: Make predictions\n",
    "y_pred = model.predict(X_test)\n",
    "\n",
    "# Step 7: Evaluate the model\n",
    "print(\"\\n✅ Model Accuracy:\", accuracy_score(y_test, y_pred))\n",
    "print(\"\\n🧮 Confusion Matrix:\\n\", confusion_matrix(y_test, y_pred))\n",
    "print(\"\\n📄 Classification Report:\\n\", classification_report(y_test, y_pred))\n"
   ]
  },
  {
   "cell_type": "code",
   "execution_count": null,
   "id": "ec48bb4a",
   "metadata": {},
   "outputs": [],
   "source": [
    "# Step 8: Predict for custom input\n",
    "try:\n",
    "    hours = float(input(\"Enter Hours Studied: \"))\n",
    "    attendance = float(input(\"Enter Attendance (%): \"))\n",
    "    user_input = pd.DataFrame([[hours, attendance]], columns=['Hours_Studied', 'Attendance'])\n",
    "    prediction = model.predict(user_input)\n",
    "\n",
    "    print(\"\\n🔍 Prediction Result:\")\n",
    "    print(\"🎉 PASS\" if prediction[0] == 1 else \"❌ FAIL\")\n",
    "\n",
    "except ValueError:\n",
    "    print(\"⚠️ Please enter valid numeric inputs.\")\n"
   ]
  }
 ],
 "metadata": {},
 "nbformat": 4,
 "nbformat_minor": 5
}